{
 "cells": [
  {
   "cell_type": "markdown",
   "metadata": {},
   "source": [
    "# Networkdays.networkdays()"
   ]
  },
  {
   "cell_type": "code",
   "execution_count": 1,
   "metadata": {},
   "outputs": [
    {
     "name": "stdout",
     "output_type": "stream",
     "text": [
      "\n",
      "Bussiness days: 22\n",
      "    [datetime.date(2020, 12, 1), datetime.date(2020, 12, 2)] \n",
      "    ...[datetime.date(2020, 12, 30), datetime.date(2020, 12, 31)]\n",
      "\n",
      "Weekends:       8 \n",
      "    [datetime.date(2020, 12, 5), datetime.date(2020, 12, 6)] \n",
      "    ...[datetime.date(2020, 12, 26), datetime.date(2020, 12, 27)]\n",
      "    \n",
      "Holidays:       1\n",
      "\n"
     ]
    }
   ],
   "source": [
    "import datetime\n",
    "from networkdays import networkdays\n",
    "\n",
    "HOLIDAYS  = { datetime.date(2020, 12, 25),}\n",
    "\n",
    "days = networkdays.Networkdays(datetime.date(2020, 12, 1), datetime.date(2020, 12, 31), holidays=HOLIDAYS) \n",
    "\n",
    "# you have methods to get holidays and weekends date list as well.\n",
    "# here i just got the size of each set\n",
    "print(f'''\n",
    "Bussiness days: {len(days.networkdays())}\n",
    "    {days.networkdays()[:2]} \n",
    "    ...{days.networkdays()[-2:]}\n",
    "\n",
    "Weekends:       {len(days.weekends())} \n",
    "    {days.weekends()[:2]} \n",
    "    ...{days.weekends()[-2:]}\n",
    "    \n",
    "Holidays:       {len(days.holidays())}\n",
    "''')"
   ]
  },
  {
   "cell_type": "markdown",
   "metadata": {},
   "source": [
    "## Networkdays.jobschedule()"
   ]
  },
  {
   "cell_type": "code",
   "execution_count": 2,
   "metadata": {},
   "outputs": [
    {
     "name": "stdout",
     "output_type": "stream",
     "text": [
      "\n",
      "\n",
      "bussines days:          54\n",
      "calendar days:          73 days, 0:00:00\n",
      "starts - ends:          12/01/20 - 02/12/21\n",
      "\n",
      "years:                  [2020, 2021]\n",
      "months:                 [12, 1, 2]\n",
      "weeks (ISO):            [49, 50, 51, 52, 53, 1, 2, 3, 4, 5, 6]\n",
      "\n",
      "days:                   \n",
      "    [datetime.date(2020, 12, 1), datetime.date(2020, 12, 2)] ...\n",
      " ...[datetime.date(2021, 2, 11), datetime.date(2021, 2, 12)]\n",
      "\n",
      "Works days dates on january: \n",
      "    [datetime.date(2020, 12, 1), datetime.date(2020, 12, 2)] ...\n",
      " ...[datetime.date(2021, 2, 11), datetime.date(2021, 2, 12)]\n",
      "\n"
     ]
    }
   ],
   "source": [
    "# jobSchedule\n",
    "import datetime\n",
    "from networkdays import networkdays\n",
    "\n",
    "# Distribute the 600 hrs of effort, starting on december 1, 2020 working 8hrs per day. \n",
    "jobschedule = networkdays.JobSchedule(600, 8, datetime.date(2020, 12, 1), networkdays=None)\n",
    "job_dates = jobschedule.job_workdays()\n",
    "\n",
    "# print results ...\n",
    "print(f'''\n",
    "\n",
    "bussines days:          {jobschedule.bussines_days}\n",
    "calendar days:          {jobschedule.total_days}\n",
    "starts - ends:          {jobschedule.prj_starts} - {jobschedule.prj_ends}\n",
    "\n",
    "years:                  {list(jobschedule.years())}\n",
    "months:                 {list(jobschedule.months())}\n",
    "weeks (ISO):            {list(jobschedule.weeks())}\n",
    "\n",
    "days:                   \n",
    "    {list(jobschedule.days())[:2]} ...\\n ...{list(jobschedule.days())[-2:]}\n",
    "\n",
    "Works days dates on january: \n",
    "    {list(jobschedule.days())[:2]} ...\\n ...{list(jobschedule.days())[-2:]}\n",
    "''')"
   ]
  }
 ],
 "metadata": {
  "kernelspec": {
   "display_name": "Python 3",
   "language": "python",
   "name": "python3"
  },
  "language_info": {
   "codemirror_mode": {
    "name": "ipython",
    "version": 3
   },
   "file_extension": ".py",
   "mimetype": "text/x-python",
   "name": "python",
   "nbconvert_exporter": "python",
   "pygments_lexer": "ipython3",
   "version": "3.7.7"
  }
 },
 "nbformat": 4,
 "nbformat_minor": 4
}
