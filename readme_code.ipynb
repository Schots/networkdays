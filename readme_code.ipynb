{
 "cells": [
  {
   "cell_type": "code",
   "execution_count": 1,
   "metadata": {},
   "outputs": [],
   "source": [
    "import datetime\n",
    "\n",
    "from networkdays import networkdays\n",
    "\n",
    "calendar_start = datetime.date(2020, 12, 1)  #  May 1 2020\n",
    "calendar_finish = datetime.date(2020, 12, 31)  #  Jan 31 2021\n",
    "HOLIDAYS  = [\n",
    "    datetime.date(2020, 12, 25), # World Peace Day\n",
    "    datetime.date(2020, 9, 7),   # a fake holiday \n",
    "]\n",
    "\n",
    "ndays = networkdays.Networkdays(calendar_start, calendar_finish,holidays=HOLIDAYS) \n"
   ]
  },
  {
   "cell_type": "code",
   "execution_count": 2,
   "metadata": {},
   "outputs": [
    {
     "name": "stdout",
     "output_type": "stream",
     "text": [
      "22 days of work\n",
      "---------------\n",
      "[datetime.date(2020, 12, 1), datetime.date(2020, 12, 2), datetime.date(2020, 12, 3), datetime.date(2020, 12, 4), datetime.date(2020, 12, 7), datetime.date(2020, 12, 8), datetime.date(2020, 12, 9), datetime.date(2020, 12, 10), datetime.date(2020, 12, 11), datetime.date(2020, 12, 14), datetime.date(2020, 12, 15), datetime.date(2020, 12, 16), datetime.date(2020, 12, 17), datetime.date(2020, 12, 18), datetime.date(2020, 12, 21), datetime.date(2020, 12, 22), datetime.date(2020, 12, 23), datetime.date(2020, 12, 24), datetime.date(2020, 12, 28), datetime.date(2020, 12, 29), datetime.date(2020, 12, 30), datetime.date(2020, 12, 31)]\n"
     ]
    }
   ],
   "source": [
    "print(f'{len(ndays.networkdays())} days of work\\n---------------\\n{ndays.networkdays()}')"
   ]
  },
  {
   "cell_type": "code",
   "execution_count": 3,
   "metadata": {},
   "outputs": [
    {
     "name": "stdout",
     "output_type": "stream",
     "text": [
      "8 weekends\n",
      "----------\n",
      "{datetime.date(2020, 12, 27), datetime.date(2020, 12, 20), datetime.date(2020, 12, 19), datetime.date(2020, 12, 6), datetime.date(2020, 12, 13), datetime.date(2020, 12, 26), datetime.date(2020, 12, 12), datetime.date(2020, 12, 5)}\n"
     ]
    }
   ],
   "source": [
    "print(f'{len(ndays.weekends())} weekends\\n----------\\n{ndays.weekends()}')"
   ]
  },
  {
   "cell_type": "code",
   "execution_count": 4,
   "metadata": {},
   "outputs": [
    {
     "name": "stdout",
     "output_type": "stream",
     "text": [
      "1 holiday\n",
      "---------\n",
      "[datetime.date(2020, 12, 25)]\n"
     ]
    }
   ],
   "source": [
    "print(f'{len(ndays.holidays())} holiday\\n---------\\n{ndays.holidays()}')"
   ]
  },
  {
   "cell_type": "code",
   "execution_count": 5,
   "metadata": {},
   "outputs": [],
   "source": [
    "import datetime\n",
    "\n",
    "from networkdays import networkdays\n",
    "\n",
    "# set a valid period\n",
    "DATE_START = datetime.date(2020, 11, 1)  #  May 1 2020\n",
    "DATE_FINISH = datetime.date(2021, 3, 15)  #  Jan 31 2021\n",
    "HOLIDAYS  = [\n",
    "    datetime.date(2020, 12, 25), # holidays \n",
    "    datetime.date(2020, 12, 31), \n",
    "    datetime.date(2021, 1, 1),   \n",
    "]\n",
    "ndays = networkdays.Networkdays(DATE_START, DATE_FINISH,holidays=HOLIDAYS) \n",
    "\n",
    "# Distribute the hours \n",
    "jobschedule = networkdays.JobSchedule(600, 8, DATE_START)\n",
    "job_dates = jobschedule.job_workdays()"
   ]
  },
  {
   "cell_type": "code",
   "execution_count": 6,
   "metadata": {},
   "outputs": [
    {
     "name": "stdout",
     "output_type": "stream",
     "text": [
      "project_duration_hours: 600\n",
      "date_start:             2020-11-02\n",
      "workhours_per_day:      8\n",
      "job dates:              2020-11-02, 2020-11-03...2021-01-15\n",
      "bussines days:          55\n",
      "calendar days:          74 days, 0:00:00\n",
      "starts:                 11/02/20\n",
      "ends:                   01/15/21\n",
      "networkdays:            <networkdays.networkdays.Networkdays object at 0x10f87f210>\n"
     ]
    }
   ],
   "source": [
    "print(f'project_duration_hours: {jobschedule.project_duration_hours}')\n",
    "print(f'date_start:             {jobschedule.date_start}')\n",
    "print(f'workhours_per_day:      {jobschedule.workhours_per_day}')\n",
    "\n",
    "print(f'job dates:              {jobschedule.jobdays[0]}, {jobschedule.jobdays[1]}...{jobschedule.jobdays[-1]}')\n",
    "print(f'bussines days:          {jobschedule.bussines_days}')\n",
    "print(f'calendar days:          {jobschedule.total_days}')\n",
    "print(f'starts:                 {jobschedule.prj_starts}')\n",
    "print(f'ends:                   {jobschedule.prj_ends}')\n",
    "\n",
    "print(f'networkdays:            {jobschedule.networkdays}')"
   ]
  },
  {
   "cell_type": "code",
   "execution_count": 7,
   "metadata": {},
   "outputs": [
    {
     "data": {
      "text/plain": [
       "55"
      ]
     },
     "execution_count": 7,
     "metadata": {},
     "output_type": "execute_result"
    }
   ],
   "source": [
    "len(job_dates)"
   ]
  },
  {
   "cell_type": "code",
   "execution_count": 8,
   "metadata": {},
   "outputs": [
    {
     "data": {
      "text/plain": [
       "[2020, 2021]"
      ]
     },
     "execution_count": 8,
     "metadata": {},
     "output_type": "execute_result"
    }
   ],
   "source": [
    "list(jobschedule.years())"
   ]
  },
  {
   "cell_type": "code",
   "execution_count": 9,
   "metadata": {},
   "outputs": [
    {
     "data": {
      "text/plain": [
       "[11, 12, 1]"
      ]
     },
     "execution_count": 9,
     "metadata": {},
     "output_type": "execute_result"
    }
   ],
   "source": [
    "list(jobschedule.months())"
   ]
  },
  {
   "cell_type": "code",
   "execution_count": 10,
   "metadata": {},
   "outputs": [
    {
     "data": {
      "text/plain": [
       "[datetime.date(2020, 11, 2),\n",
       " datetime.date(2020, 11, 3),\n",
       " datetime.date(2020, 11, 4),\n",
       " datetime.date(2020, 11, 5),\n",
       " datetime.date(2020, 11, 6),\n",
       " datetime.date(2020, 11, 9),\n",
       " datetime.date(2020, 11, 10),\n",
       " datetime.date(2020, 11, 11),\n",
       " datetime.date(2020, 11, 12),\n",
       " datetime.date(2020, 11, 13),\n",
       " datetime.date(2020, 11, 16),\n",
       " datetime.date(2020, 11, 17),\n",
       " datetime.date(2020, 11, 18),\n",
       " datetime.date(2020, 11, 19),\n",
       " datetime.date(2020, 11, 20)]"
      ]
     },
     "execution_count": 10,
     "metadata": {},
     "output_type": "execute_result"
    }
   ],
   "source": [
    "list(jobschedule.days())[:15]"
   ]
  },
  {
   "cell_type": "code",
   "execution_count": null,
   "metadata": {},
   "outputs": [],
   "source": []
  },
  {
   "cell_type": "code",
   "execution_count": null,
   "metadata": {},
   "outputs": [],
   "source": []
  }
 ],
 "metadata": {
  "kernelspec": {
   "display_name": "Python 3",
   "language": "python",
   "name": "python3"
  },
  "language_info": {
   "codemirror_mode": {
    "name": "ipython",
    "version": 3
   },
   "file_extension": ".py",
   "mimetype": "text/x-python",
   "name": "python",
   "nbconvert_exporter": "python",
   "pygments_lexer": "ipython3",
   "version": "3.7.7"
  }
 },
 "nbformat": 4,
 "nbformat_minor": 4
}
