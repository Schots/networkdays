{
 "cells": [
  {
   "cell_type": "markdown",
   "metadata": {},
   "source": [
    "# Networkdays.networkdays()"
   ]
  },
  {
   "cell_type": "code",
   "execution_count": 1,
   "metadata": {},
   "outputs": [
    {
     "name": "stdout",
     "output_type": "stream",
     "text": [
      "   December 2020\n",
      "Mo Tu We Th Fr Sa Su\n",
      "    1  2  3  4  5  6\n",
      " 7  8  9 10 11 12 13\n",
      "14 15 16 17 18 19 20\n",
      "21 22 23 24 25 26 27\n",
      "28 29 30 31\n",
      "\n"
     ]
    }
   ],
   "source": [
    "import calendar\n",
    "print(calendar.month(2020, 12))\n"
   ]
  },
  {
   "cell_type": "code",
   "execution_count": 23,
   "metadata": {},
   "outputs": [
    {
     "name": "stdout",
     "output_type": "stream",
     "text": [
      "[datetime.date(2020, 12, 1), datetime.date(2020, 12, 2)] ... [datetime.date(2020, 12, 31)]\n"
     ]
    }
   ],
   "source": [
    "# Networkdays, given 2020, december calendar...\n",
    "#       December 2020\n",
    "#    Mo Tu We Th Fr Sa Su\n",
    "#        1  2  3  4  5  6\n",
    "#     7  8  9 10 11 12 13\n",
    "#    14 15 16 17 18 19 20\n",
    "#    21 22 23 24 25 26 27\n",
    "#    28 29 30 31\n",
    "\n",
    "\n",
    "import datetime\n",
    "from networkdays import networkdays\n",
    "\n",
    "HOLIDAYS  = [\n",
    "    datetime.date(2020, 12, 25), # World Peace Day\n",
    "    datetime.date(2020, 9, 7),   # a fake holiday \n",
    "]\n",
    "\n",
    "days = networkdays.Networkdays(datetime.date(2020, 12, 1), datetime.date(2020, 12, 31), holidays=HOLIDAYS) \n",
    "print(f'''{days.networkdays()[:2]} ... {days.networkdays()[-1:]}''')"
   ]
  },
  {
   "cell_type": "code",
   "execution_count": 28,
   "metadata": {},
   "outputs": [
    {
     "name": "stdout",
     "output_type": "stream",
     "text": [
      "\n",
      "Bussiness days: 22\n",
      "Weekends:       8 \n",
      "Holidays:       1\n",
      "...\n",
      "weekends dates: [datetime.date(2020, 12, 5), datetime.date(2020, 12, 6)] ...\n",
      "                ...[datetime.date(2020, 12, 26), datetime.date(2020, 12, 27)]\n",
      "\n"
     ]
    }
   ],
   "source": [
    "# you have methods to get holidays and weekends date list as well.\n",
    "# here i just got the size of each set\n",
    "print(f'''\n",
    "Bussiness days: {len(days.networkdays())}\n",
    "Weekends:       {len(days.weekends())} \n",
    "Holidays:       {len(days.holidays())}\n",
    "...\n",
    "weekends dates: {days.weekends()[:2]} ...\n",
    "                ...{days.weekends()[-2:]}\n",
    "''')\n"
   ]
  },
  {
   "cell_type": "markdown",
   "metadata": {},
   "source": [
    "## Networkdays.jobschedule()"
   ]
  },
  {
   "cell_type": "code",
   "execution_count": 24,
   "metadata": {},
   "outputs": [],
   "source": [
    "# jobSchedule\n",
    "import datetime\n",
    "\n",
    "from networkdays import networkdays\n",
    "DATE_START = datetime.date(2020, 12, 1)\n",
    "\n",
    "# Distribute the 600 hrs of effort, starting on december 1, 2020 workin 8hrs per day. \n",
    "jobschedule = networkdays.JobSchedule(600, 8, DATE_START, networkdays=None)\n",
    "job_dates = jobschedule.job_workdays()"
   ]
  },
  {
   "cell_type": "code",
   "execution_count": 25,
   "metadata": {},
   "outputs": [
    {
     "name": "stdout",
     "output_type": "stream",
     "text": [
      "\n",
      "project_duration_hours: 600'\n",
      "date_start:             2020-12-01\n",
      "workhours_per_day:      8\n",
      "\n",
      "bussines days:          54\n",
      "calendar days:          73 days, 0:00:00\n",
      "starts:                 12/01/20\n",
      "ends:                   02/12/21\n",
      "\n",
      "years:                  [2020, 2021]\n",
      "months:                 [12, 1, 2]\n",
      "weeks (ISO):            [49, 50, 51, 52, 53, 1, 2, 3, 4, 5, 6]\n",
      "days:                   [datetime.date(2020, 12, 1), datetime.date(2020, 12, 2)] ...\n",
      "\t\t\t ...[datetime.date(2021, 2, 11), datetime.date(2021, 2, 12)]\n",
      "Works days dates on january: [datetime.date(2020, 12, 1), datetime.date(2020, 12, 2)] ...\n",
      "\t\t\t ...[datetime.date(2021, 2, 11), datetime.date(2021, 2, 12)]\n",
      "\n"
     ]
    }
   ],
   "source": [
    "print(f'''\n",
    "project_duration_hours: {jobschedule.project_duration_hours}'\n",
    "date_start:             {jobschedule.date_start}\n",
    "workhours_per_day:      {jobschedule.workhours_per_day}\n",
    "\n",
    "bussines days:          {jobschedule.bussines_days}\n",
    "calendar days:          {jobschedule.total_days}\n",
    "starts:                 {jobschedule.prj_starts}\n",
    "ends:                   {jobschedule.prj_ends}\n",
    "\n",
    "years:                  {list(jobschedule.years())}\n",
    "months:                 {list(jobschedule.months())}\n",
    "weeks (ISO):            {list(jobschedule.weeks())}\n",
    "days:                   {list(jobschedule.days())[:2]} ...\\n\\t\\t\\t ...{list(jobschedule.days())[-2:]}\n",
    "Works days dates on january: {list(jobschedule.days())[:2]} ...\\n\\t\\t\\t ...{list(jobschedule.days())[-2:]}\n",
    "''')"
   ]
  },
  {
   "cell_type": "code",
   "execution_count": null,
   "metadata": {},
   "outputs": [],
   "source": []
  }
 ],
 "metadata": {
  "kernelspec": {
   "display_name": "Python 3",
   "language": "python",
   "name": "python3"
  },
  "language_info": {
   "codemirror_mode": {
    "name": "ipython",
    "version": 3
   },
   "file_extension": ".py",
   "mimetype": "text/x-python",
   "name": "python",
   "nbconvert_exporter": "python",
   "pygments_lexer": "ipython3",
   "version": "3.7.7"
  }
 },
 "nbformat": 4,
 "nbformat_minor": 4
}
